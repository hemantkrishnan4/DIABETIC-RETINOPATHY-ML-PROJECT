{
 "cells": [
  {
   "cell_type": "code",
   "execution_count": 2,
   "id": "63883972",
   "metadata": {},
   "outputs": [
    {
     "name": "stdout",
     "output_type": "stream",
     "text": [
      "Images organized into class folders.\n"
     ]
    }
   ],
   "source": [
    "import os\n",
    "import shutil\n",
    "import pandas as pd\n",
    "\n",
    "# Load the CSV file containing image IDs and their corresponding class labels\n",
    "train_csv = pd.read_csv('/home/gcekcse/Documents/ML_Project_hk/data/train.csv')\n",
    "\n",
    "# Define base directory and path to the folder where images are stored\n",
    "base_dir = \"/home/gcekcse/Documents/ML_Project_hk/data\"\n",
    "train_path = os.path.join(base_dir, \"train_images\")\n",
    "\n",
    "# Define the output directory where folders for each class will be created\n",
    "output_dir = os.path.join(base_dir, \"organized_train_images\")\n",
    "\n",
    "# Create a directory for each diagnosis class if it doesn't already exist\n",
    "for diagnosis in train_csv['diagnosis'].unique():\n",
    "    class_folder = os.path.join(output_dir, str(diagnosis))\n",
    "    os.makedirs(class_folder, exist_ok=True)\n",
    "\n",
    "# Loop through each row in the CSV to organize images into respective class folders\n",
    "for _, row in train_csv.iterrows():\n",
    "    image_id = row['id_code']\n",
    "    diagnosis = row['diagnosis']\n",
    "    \n",
    "    # Define source and destination paths for the image\n",
    "    src = os.path.join(train_path, f\"{image_id}.png\")  # assuming images are in .jpg format\n",
    "    dest = os.path.join(output_dir, str(diagnosis), f\"{image_id}.jpg\")\n",
    "    \n",
    "    # Move or copy the image to the destination folder\n",
    "    if os.path.exists(src):\n",
    "        shutil.move(src, dest)  # Use shutil.copy(src, dest) if you want to copy instead of move\n",
    "    else:\n",
    "        print(f\"Image {image_id}.jpg not found in train_images folder.\")\n",
    "\n",
    "print(\"Images organized into class folders.\")\n"
   ]
  },
  {
   "cell_type": "code",
   "execution_count": null,
   "id": "8fe2feb8",
   "metadata": {},
   "outputs": [],
   "source": []
  },
  {
   "cell_type": "code",
   "execution_count": null,
   "id": "e10fc024",
   "metadata": {},
   "outputs": [],
   "source": []
  },
  {
   "cell_type": "code",
   "execution_count": null,
   "id": "77a37e36",
   "metadata": {},
   "outputs": [],
   "source": []
  }
 ],
 "metadata": {
  "kernelspec": {
   "display_name": "Python (hkenv)",
   "language": "python",
   "name": "hkenv"
  },
  "language_info": {
   "codemirror_mode": {
    "name": "ipython",
    "version": 3
   },
   "file_extension": ".py",
   "mimetype": "text/x-python",
   "name": "python",
   "nbconvert_exporter": "python",
   "pygments_lexer": "ipython3",
   "version": "3.12.4"
  }
 },
 "nbformat": 4,
 "nbformat_minor": 5
}
