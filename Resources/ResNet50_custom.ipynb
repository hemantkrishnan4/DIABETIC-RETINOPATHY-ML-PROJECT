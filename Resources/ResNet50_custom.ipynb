{
 "cells": [
  {
   "cell_type": "code",
   "execution_count": 2,
   "id": "ed14d142-76c5-4783-bdf3-175b52c06fbe",
   "metadata": {},
   "outputs": [
    {
     "name": "stderr",
     "output_type": "stream",
     "text": [
      "2024-09-30 13:16:25.499488: I tensorflow/core/util/port.cc:153] oneDNN custom operations are on. You may see slightly different numerical results due to floating-point round-off errors from different computation orders. To turn them off, set the environment variable `TF_ENABLE_ONEDNN_OPTS=0`.\n",
      "2024-09-30 13:16:25.512087: E external/local_xla/xla/stream_executor/cuda/cuda_fft.cc:485] Unable to register cuFFT factory: Attempting to register factory for plugin cuFFT when one has already been registered\n",
      "2024-09-30 13:16:25.525211: E external/local_xla/xla/stream_executor/cuda/cuda_dnn.cc:8454] Unable to register cuDNN factory: Attempting to register factory for plugin cuDNN when one has already been registered\n",
      "2024-09-30 13:16:25.529031: E external/local_xla/xla/stream_executor/cuda/cuda_blas.cc:1452] Unable to register cuBLAS factory: Attempting to register factory for plugin cuBLAS when one has already been registered\n",
      "2024-09-30 13:16:25.539109: I tensorflow/core/platform/cpu_feature_guard.cc:210] This TensorFlow binary is optimized to use available CPU instructions in performance-critical operations.\n",
      "To enable the following instructions: AVX2 AVX512F AVX512_VNNI FMA, in other operations, rebuild TensorFlow with the appropriate compiler flags.\n",
      "2024-09-30 13:16:26.179818: W tensorflow/compiler/tf2tensorrt/utils/py_utils.cc:38] TF-TRT Warning: Could not find TensorRT\n"
     ]
    }
   ],
   "source": [
    "import numpy as np\n",
    "import pandas as pd\n",
    "import cv2\n",
    "import os\n",
    "import matplotlib.pyplot as plt\n",
    "import seaborn as sns\n",
    "from datetime import datetime\n",
    "\n",
    "from sklearn.model_selection import train_test_split\n",
    "from sklearn.metrics import classification_report, roc_auc_score, confusion_matrix\n",
    "from sklearn.utils import class_weight\n",
    "\n",
    "import tensorflow as tf\n",
    "from tensorflow.keras.models import Sequential, load_model\n",
    "from tensorflow.keras.layers import Conv2D, MaxPooling2D, Flatten, Dense, Dropout\n",
    "from tensorflow.keras.preprocessing.image import ImageDataGenerator\n",
    "from tensorflow.keras.applications import ResNet50\n",
    "from tensorflow.keras.optimizers import Adam\n",
    "from tensorflow.keras.callbacks import TensorBoard, EarlyStopping, ModelCheckpoint\n",
    "\n"
   ]
  },
  {
   "cell_type": "code",
   "execution_count": null,
   "id": "7de1dcc6",
   "metadata": {},
   "outputs": [],
   "source": []
  },
  {
   "cell_type": "code",
   "execution_count": 4,
   "id": "13c36a81-6b7f-4526-a463-9903bfc2dbf9",
   "metadata": {},
   "outputs": [],
   "source": [
    "# Path to your image dataset\n",
    "#data_dir = '/home/gcekcse/Documents/ML_Project_hk/aptos2019-blindness-detection/G1/G1_images'\n",
    "#labels_file = '/home/gcekcse/Documents/ML_Project_hk/aptos2019-blindness-detection/G1/G1.csv'\n",
    "data_dir = 'C:/Users/heman/Documents/ML_project/aptos2019-blindness-detection/G1/G1_images'\n",
    "labels_file = 'C:/Users/heman/Documents/ML_project/aptos2019-blindness-detection/G1/G1.csv'\n",
    "\n",
    "\n",
    "# Load labels\n",
    "df = pd.read_csv(labels_file)\n",
    "\n"
   ]
  },
  {
   "cell_type": "code",
   "execution_count": 5,
   "id": "83aea2b6-91b9-4ad7-aa23-bc1cf3bccd23",
   "metadata": {},
   "outputs": [
    {
     "name": "stdout",
     "output_type": "stream",
     "text": [
      "   Class  Number of Samples\n",
      "0      0               1805\n",
      "1      2                999\n",
      "2      1                370\n",
      "3      4                295\n",
      "4      3                193\n"
     ]
    }
   ],
   "source": [
    "# Count the number of samples for each class\n",
    "class_counts = df['diagnosis'].value_counts().reset_index()\n",
    "\n",
    "# Rename the columns for better understanding\n",
    "class_counts.columns = ['Class', 'Number of Samples']\n",
    "\n",
    "# Display the tabular view\n",
    "print(class_counts)"
   ]
  },
  {
   "cell_type": "code",
   "execution_count": 6,
   "id": "dfc0042f-b199-4847-9508-400a2c4c3a92",
   "metadata": {},
   "outputs": [
    {
     "name": "stdout",
     "output_type": "stream",
     "text": [
      "           id_code  diagnosis\n",
      "2181  996f9bba4ef0          0\n",
      "570   286e9981dd9b          0\n",
      "3389  eae70f527755          0\n",
      "343   19244004583f          3\n",
      "1801  7f0ffeb0a333          0\n"
     ]
    }
   ],
   "source": [
    "# Split data into training and testing\n",
    "train_df, test_df = train_test_split(df, test_size=0.2, random_state=42)\n",
    "\n",
    "# Display sample data\n",
    "print(train_df.head())"
   ]
  },
  {
   "cell_type": "code",
   "execution_count": 5,
   "id": "c8863aa1-d829-4486-a097-e52472f978c2",
   "metadata": {},
   "outputs": [
    {
     "data": {
      "text/plain": [
       "\"import pandas as pd\\nfrom sklearn.model_selection import train_test_split\\n\\n# Paths to your dataset\\ntrain_dir = 'C:/Users/heman/Documents/ML_project/DATA2/archive/train_images/train_images/'\\ntest_dir = 'C:/Users/heman/Documents/ML_project/DATA2/archive/test_images/test_images/'\\nval_dir = 'C:/Users/heman/Documents/ML_project/DATA2/archive/val_images/val_images/'\\ncsv_dir = 'C:/Users/heman/Documents/ML_project/DATA2/archive'\\n\\n# Path to CSV files\\ntrain_csv = f'{csv_dir}/train_1.csv'\\ntest_csv = f'{csv_dir}/test.csv'\\nvalid_csv = f'{csv_dir}/valid.csv'\\n\\n# Load the training labels\\ndf = pd.read_csv(train_csv)\\n\\n# Count the number of samples for each class\\nclass_counts = df['diagnosis'].value_counts().reset_index()\\n\\n# Split data into training and testing sets (80% train, 20% test)\\ntrain_df, test_df = train_test_split(df, test_size=0.2, random_state=42)\\n\\n# Display sample data from the training set\\nprint(train_df.head())\\n\\n# Rename the columns for better understanding\\nclass_counts.columns = ['Class', 'Number of Samples']\\n\\n# Display the tabular view of class counts\\nprint(class_counts)\\n\""
      ]
     },
     "execution_count": 5,
     "metadata": {},
     "output_type": "execute_result"
    }
   ],
   "source": [
    "'''import pandas as pd\n",
    "from sklearn.model_selection import train_test_split\n",
    "\n",
    "# Paths to your dataset\n",
    "train_dir = 'C:/Users/heman/Documents/ML_project/DATA2/archive/train_images/train_images/'\n",
    "test_dir = 'C:/Users/heman/Documents/ML_project/DATA2/archive/test_images/test_images/'\n",
    "val_dir = 'C:/Users/heman/Documents/ML_project/DATA2/archive/val_images/val_images/'\n",
    "csv_dir = 'C:/Users/heman/Documents/ML_project/DATA2/archive'\n",
    "\n",
    "# Path to CSV files\n",
    "train_csv = f'{csv_dir}/train_1.csv'\n",
    "test_csv = f'{csv_dir}/test.csv'\n",
    "valid_csv = f'{csv_dir}/valid.csv'\n",
    "\n",
    "# Load the training labels\n",
    "df = pd.read_csv(train_csv)\n",
    "\n",
    "# Count the number of samples for each class\n",
    "class_counts = df['diagnosis'].value_counts().reset_index()\n",
    "\n",
    "# Split data into training and testing sets (80% train, 20% test)\n",
    "train_df, test_df = train_test_split(df, test_size=0.2, random_state=42)\n",
    "\n",
    "# Display sample data from the training set\n",
    "print(train_df.head())\n",
    "\n",
    "# Rename the columns for better understanding\n",
    "class_counts.columns = ['Class', 'Number of Samples']\n",
    "\n",
    "# Display the tabular view of class counts\n",
    "print(class_counts)\n",
    "'''"
   ]
  },
  {
   "cell_type": "code",
   "execution_count": 5,
   "id": "005e569b-c783-426d-988c-17e9b7ad395a",
   "metadata": {},
   "outputs": [
    {
     "name": "stdout",
     "output_type": "stream",
     "text": [
      "Preprocessing training data...\n"
     ]
    },
    {
     "ename": "NameError",
     "evalue": "name 'train_df' is not defined",
     "output_type": "error",
     "traceback": [
      "\u001b[1;31m---------------------------------------------------------------------------\u001b[0m",
      "\u001b[1;31mNameError\u001b[0m                                 Traceback (most recent call last)",
      "Cell \u001b[1;32mIn[5], line 32\u001b[0m\n\u001b[0;32m     30\u001b[0m \u001b[38;5;66;03m# Run preprocessing with logging\u001b[39;00m\n\u001b[0;32m     31\u001b[0m \u001b[38;5;28mprint\u001b[39m(\u001b[38;5;124m\"\u001b[39m\u001b[38;5;124mPreprocessing training data...\u001b[39m\u001b[38;5;124m\"\u001b[39m)\n\u001b[1;32m---> 32\u001b[0m X_train, y_train \u001b[38;5;241m=\u001b[39m preprocess_data(\u001b[43mtrain_df\u001b[49m, data_dir)\n\u001b[0;32m     34\u001b[0m \u001b[38;5;28mprint\u001b[39m(\u001b[38;5;124m\"\u001b[39m\u001b[38;5;124mPreprocessing test data...\u001b[39m\u001b[38;5;124m\"\u001b[39m)\n\u001b[0;32m     35\u001b[0m X_test, y_test \u001b[38;5;241m=\u001b[39m preprocess_data(test_df, data_dir)\n",
      "\u001b[1;31mNameError\u001b[0m: name 'train_df' is not defined"
     ]
    }
   ],
   "source": [
    "\n",
    "IMG_SIZE = 224  # Resize images to 224x224\n",
    "#Uncomment the below code when it's run first time\n",
    "\n",
    "def preprocess_image(image_path):\n",
    "    img = cv2.imread(image_path)\n",
    "    if img is None:\n",
    "        print(f\"Error: Unable to load image at {image_path}\")\n",
    "        return None  # Skip images that are not loaded\n",
    "    else:\n",
    "        img = cv2.resize(img, (IMG_SIZE, IMG_SIZE))\n",
    "        img = img / 255.0  # Normalize\n",
    "        return img\n",
    "\n",
    "def preprocess_data(dataframe, data_dir):\n",
    "    X = []\n",
    "    y = []\n",
    "    for idx, row in dataframe.iterrows():\n",
    "        img_path = os.path.join(data_dir, row['id_code'] + \".png\")  # Assuming .png extension\n",
    "        img = preprocess_image(img_path)\n",
    "        \n",
    "        if img is not None:  # Proceed only if the image was loaded\n",
    "            X.append(img)\n",
    "            y.append(row['diagnosis'])  # Assuming 'diagnosis' contains the target label\n",
    "            \n",
    "        if idx % 100 == 0:  # Log progress every 100 images\n",
    "            print(f\"Processed {idx + 1}/{len(dataframe)} images.\")\n",
    "    \n",
    "    return np.array(X), np.array(y)\n",
    "\n",
    "# Run preprocessing with logging\n",
    "print(\"Preprocessing training data...\")\n",
    "X_train, y_train = preprocess_data(train_df, data_dir)\n",
    "\n",
    "print(\"Preprocessing test data...\")\n",
    "X_test, y_test = preprocess_data(test_df, data_dir)\n",
    "\n",
    "print(\"Preprocessing completed.\")\n",
    "\n",
    "# Save training data\n",
    "np.save('X_train.npy', X_train)\n",
    "np.save('y_train.npy', y_train)\n",
    "\n",
    "# Save test data\n",
    "np.save('X_test.npy', X_test)\n",
    "np.save('y_test.npy', y_test)"
   ]
  },
  {
   "cell_type": "code",
   "execution_count": 3,
   "id": "75416eb1-fe25-44f6-b56b-b37ddc345321",
   "metadata": {},
   "outputs": [],
   "source": [
    "#Loading Data\n",
    "\n",
    "X_train = np.load('X_train.npy')\n",
    "y_train = np.load('y_train.npy')\n",
    "X_test = np.load('X_test.npy')\n",
    "y_test = np.load('y_test.npy')\n"
   ]
  },
  {
   "cell_type": "code",
   "execution_count": 6,
   "id": "a3198e5c-0649-452e-a83e-eaebb77a6e61",
   "metadata": {},
   "outputs": [
    {
     "name": "stdout",
     "output_type": "stream",
     "text": [
      "Model: \"sequential\"\n",
      "_________________________________________________________________\n",
      " Layer (type)                Output Shape              Param #   \n",
      "=================================================================\n",
      " resnet50 (Functional)       (None, 7, 7, 2048)        23587712  \n",
      "                                                                 \n",
      " flatten (Flatten)           (None, 100352)            0         \n",
      "                                                                 \n",
      " dense (Dense)               (None, 512)               51380736  \n",
      "                                                                 \n",
      " dropout (Dropout)           (None, 512)               0         \n",
      "                                                                 \n",
      " dense_1 (Dense)             (None, 5)                 2565      \n",
      "                                                                 \n",
      "=================================================================\n",
      "Total params: 74,971,013\n",
      "Trainable params: 51,383,301\n",
      "Non-trainable params: 23,587,712\n",
      "_________________________________________________________________\n"
     ]
    }
   ],
   "source": [
    "# Load ResNet50 base model (pre-trained on ImageNet)\n",
    "base_model = ResNet50(weights='imagenet', include_top=False, input_shape=(IMG_SIZE, IMG_SIZE, 3))\n",
    "\n",
    "# Freeze the base model\n",
    "base_model.trainable = False\n",
    "\n",
    "# Add custom layers on top\n",
    "model = Sequential([\n",
    "    base_model,\n",
    "    Flatten(),\n",
    "    Dense(512, activation='relu'),\n",
    "    Dropout(0.5),\n",
    "    Dense(5, activation='softmax')  # Assuming 5 DR severity levels\n",
    "])\n",
    "\n",
    "# Compile the model\n",
    "model.compile(optimizer=Adam(learning_rate=1e-4), loss='sparse_categorical_crossentropy', metrics=['accuracy'])\n",
    "\n",
    "# Show the model summary\n",
    "model.summary()\n"
   ]
  },
  {
   "cell_type": "code",
   "execution_count": 7,
   "id": "872eeb5f-7405-4e6b-b451-67ba580f511d",
   "metadata": {},
   "outputs": [
    {
     "name": "stdout",
     "output_type": "stream",
     "text": [
      "Num GPUs Available:  1\n"
     ]
    }
   ],
   "source": [
    "\n",
    "# Check if GPU is available\n",
    "print(\"Num GPUs Available: \", len(tf.config.list_physical_devices('GPU')))\n",
    "\n",
    "# Data augmentation\n",
    "datagen = ImageDataGenerator(\n",
    "    rotation_range=20,\n",
    "    zoom_range=0.15,\n",
    "    width_shift_range=0.2,\n",
    "    height_shift_range=0.2,\n",
    "    shear_range=0.15,\n",
    "    horizontal_flip=True,\n",
    "    fill_mode=\"nearest\"\n",
    ")\n",
    "\n",
    "# Define the checkpoint callback to overwrite the saved model after each epoch\n",
    "checkpoint_callback = ModelCheckpoint(\n",
    "    filepath=r'C:/Users/heman/Documents/ML_project/models/model.keras',  # Constant file path\n",
    "    save_best_only=False,\n",
    "    save_weights_only=False,\n",
    "    verbose=1\n",
    ")\n",
    "\n",
    "# Define early stopping callback to monitor validation loss\n",
    "early_stopping = tf.keras.callbacks.EarlyStopping(\n",
    "    monitor='val_loss',  # Monitor validation loss\n",
    "    patience=5,          # Stop after 5 epochs with no improvement\n",
    "    restore_best_weights=True\n",
    ")"
   ]
  },
  {
   "cell_type": "code",
   "execution_count": null,
   "id": "f241f727-a395-402c-8164-577913d3281b",
   "metadata": {},
   "outputs": [
    {
     "name": "stdout",
     "output_type": "stream",
     "text": [
      "Epoch 1/80\n"
     ]
    }
   ],
   "source": [
    "# Fit the model\n",
    "history = model.fit(\n",
    "    datagen.flow(X_train, y_train, batch_size=32),\n",
    "    validation_data=(X_test, y_test),\n",
    "    epochs=80,\n",
    "    callbacks=[checkpoint_callback, early_stopping]\n",
    ")\n"
   ]
  },
  {
   "cell_type": "code",
   "execution_count": null,
   "id": "a02763e2-3d25-4636-b647-0a92f42d02ab",
   "metadata": {},
   "outputs": [],
   "source": [
    "#!tensorboard --logdir=logs/fit\n"
   ]
  },
  {
   "cell_type": "code",
   "execution_count": 4,
   "id": "76a55aa2-889c-456a-81be-650664e29231",
   "metadata": {},
   "outputs": [
    {
     "name": "stderr",
     "output_type": "stream",
     "text": [
      "2024-09-30 13:16:48.393323: E external/local_xla/xla/stream_executor/cuda/cuda_driver.cc:266] failed call to cuInit: CUDA_ERROR_NO_DEVICE: no CUDA-capable device is detected\n",
      "/home/gcekcse/hkenv/lib/python3.12/site-packages/keras/src/optimizers/base_optimizer.py:33: UserWarning: Argument `decay` is no longer supported and will be ignored.\n",
      "  warnings.warn(\n",
      "WARNING:absl:Compiled the loaded model, but the compiled metrics have yet to be built. `model.compile_metrics` will be empty until you train or evaluate the model.\n",
      "WARNING:absl:Error in loading the saved optimizer state. As a result, your model is starting with a freshly initialized optimizer.\n"
     ]
    },
    {
     "ename": "ValueError",
     "evalue": "Expected all entries in the `metrics` list to be metric objects. Received instead:\nmetrics=[[<MeanMetricWrapper name=accuracy>]]",
     "output_type": "error",
     "traceback": [
      "\u001b[0;31m---------------------------------------------------------------------------\u001b[0m",
      "\u001b[0;31mValueError\u001b[0m                                Traceback (most recent call last)",
      "Cell \u001b[0;32mIn[4], line 10\u001b[0m\n\u001b[1;32m      7\u001b[0m X_test_tensor \u001b[38;5;241m=\u001b[39m tf\u001b[38;5;241m.\u001b[39mconvert_to_tensor(X_test, dtype\u001b[38;5;241m=\u001b[39mtf\u001b[38;5;241m.\u001b[39mfloat32)\n\u001b[1;32m      9\u001b[0m \u001b[38;5;66;03m# Evaluate on the test set\u001b[39;00m\n\u001b[0;32m---> 10\u001b[0m test_loss, test_acc \u001b[38;5;241m=\u001b[39m \u001b[43mmodel\u001b[49m\u001b[38;5;241;43m.\u001b[39;49m\u001b[43mevaluate\u001b[49m\u001b[43m(\u001b[49m\u001b[43mX_test_tensor\u001b[49m\u001b[43m,\u001b[49m\u001b[43m \u001b[49m\u001b[43my_test\u001b[49m\u001b[43m)\u001b[49m\n\u001b[1;32m     11\u001b[0m \u001b[38;5;28mprint\u001b[39m(\u001b[38;5;124mf\u001b[39m\u001b[38;5;124m\"\u001b[39m\u001b[38;5;124mTest Accuracy: \u001b[39m\u001b[38;5;132;01m{\u001b[39;00mtest_acc\u001b[38;5;250m \u001b[39m\u001b[38;5;241m*\u001b[39m\u001b[38;5;250m \u001b[39m\u001b[38;5;241m100\u001b[39m\u001b[38;5;132;01m:\u001b[39;00m\u001b[38;5;124m.2f\u001b[39m\u001b[38;5;132;01m}\u001b[39;00m\u001b[38;5;124m%\u001b[39m\u001b[38;5;124m\"\u001b[39m)\n\u001b[1;32m     13\u001b[0m \u001b[38;5;66;03m# Classification report with zero_division set to handle cases with no predicted samples\u001b[39;00m\n",
      "File \u001b[0;32m~/hkenv/lib/python3.12/site-packages/keras/src/utils/traceback_utils.py:122\u001b[0m, in \u001b[0;36mfilter_traceback.<locals>.error_handler\u001b[0;34m(*args, **kwargs)\u001b[0m\n\u001b[1;32m    119\u001b[0m     filtered_tb \u001b[38;5;241m=\u001b[39m _process_traceback_frames(e\u001b[38;5;241m.\u001b[39m__traceback__)\n\u001b[1;32m    120\u001b[0m     \u001b[38;5;66;03m# To get the full stack trace, call:\u001b[39;00m\n\u001b[1;32m    121\u001b[0m     \u001b[38;5;66;03m# `keras.config.disable_traceback_filtering()`\u001b[39;00m\n\u001b[0;32m--> 122\u001b[0m     \u001b[38;5;28;01mraise\u001b[39;00m e\u001b[38;5;241m.\u001b[39mwith_traceback(filtered_tb) \u001b[38;5;28;01mfrom\u001b[39;00m \u001b[38;5;28;01mNone\u001b[39;00m\n\u001b[1;32m    123\u001b[0m \u001b[38;5;28;01mfinally\u001b[39;00m:\n\u001b[1;32m    124\u001b[0m     \u001b[38;5;28;01mdel\u001b[39;00m filtered_tb\n",
      "File \u001b[0;32m~/hkenv/lib/python3.12/site-packages/keras/src/trainers/compile_utils.py:233\u001b[0m, in \u001b[0;36mCompileMetrics._build_metrics_set\u001b[0;34m(self, metrics, num_outputs, output_names, y_true, y_pred, argument_name)\u001b[0m\n\u001b[1;32m    231\u001b[0m             metrics \u001b[38;5;241m=\u001b[39m [metrics]\n\u001b[1;32m    232\u001b[0m         \u001b[38;5;28;01mif\u001b[39;00m \u001b[38;5;129;01mnot\u001b[39;00m \u001b[38;5;28mall\u001b[39m(is_function_like(m) \u001b[38;5;28;01mfor\u001b[39;00m m \u001b[38;5;129;01min\u001b[39;00m metrics):\n\u001b[0;32m--> 233\u001b[0m             \u001b[38;5;28;01mraise\u001b[39;00m \u001b[38;5;167;01mValueError\u001b[39;00m(\n\u001b[1;32m    234\u001b[0m                 \u001b[38;5;124mf\u001b[39m\u001b[38;5;124m\"\u001b[39m\u001b[38;5;124mExpected all entries in the `\u001b[39m\u001b[38;5;132;01m{\u001b[39;00margument_name\u001b[38;5;132;01m}\u001b[39;00m\u001b[38;5;124m` list \u001b[39m\u001b[38;5;124m\"\u001b[39m\n\u001b[1;32m    235\u001b[0m                 \u001b[38;5;124mf\u001b[39m\u001b[38;5;124m\"\u001b[39m\u001b[38;5;124mto be metric objects. Received instead:\u001b[39m\u001b[38;5;130;01m\\n\u001b[39;00m\u001b[38;5;124m\"\u001b[39m\n\u001b[1;32m    236\u001b[0m                 \u001b[38;5;124mf\u001b[39m\u001b[38;5;124m\"\u001b[39m\u001b[38;5;132;01m{\u001b[39;00margument_name\u001b[38;5;132;01m}\u001b[39;00m\u001b[38;5;124m=\u001b[39m\u001b[38;5;132;01m{\u001b[39;00mmetrics\u001b[38;5;132;01m}\u001b[39;00m\u001b[38;5;124m\"\u001b[39m\n\u001b[1;32m    237\u001b[0m             )\n\u001b[1;32m    238\u001b[0m         flat_metrics\u001b[38;5;241m.\u001b[39mappend(\n\u001b[1;32m    239\u001b[0m             MetricsList(\n\u001b[1;32m    240\u001b[0m                 [\n\u001b[0;32m   (...)\u001b[0m\n\u001b[1;32m    245\u001b[0m             )\n\u001b[1;32m    246\u001b[0m         )\n\u001b[1;32m    247\u001b[0m \u001b[38;5;28;01melse\u001b[39;00m:\n",
      "\u001b[0;31mValueError\u001b[0m: Expected all entries in the `metrics` list to be metric objects. Received instead:\nmetrics=[[<MeanMetricWrapper name=accuracy>]]"
     ]
    }
   ],
   "source": [
    "# Load the model from the specified file path\n",
    "model = load_model(r'/home/gcekcse/Documents/ML_Project_hk/models/model.h5')\n",
    "X_test = np.load('X_test.npy')\n",
    "y_test = np.load('y_test.npy')\n",
    "\n",
    "# Convert your input to a tensor\n",
    "X_test_tensor = tf.convert_to_tensor(X_test, dtype=tf.float32)\n",
    "\n",
    "# Evaluate on the test set\n",
    "test_loss, test_acc = model.evaluate(X_test_tensor, y_test)\n",
    "print(f\"Test Accuracy: {test_acc * 100:.2f}%\")\n",
    "\n",
    "# Classification report with zero_division set to handle cases with no predicted samples\n",
    "y_pred = np.argmax(model.predict(X_test_tensor), axis=1)\n",
    "print(classification_report(y_test, y_pred, zero_division=1))\n",
    "\n",
    "# ROC-AUC score (use predicted probabilities instead of class labels)\n",
    "y_pred_prob = model.predict(X_test_tensor)  # Get the predicted probabilities\n",
    "print(f\"AUC-ROC: {roc_auc_score(y_test, y_pred_prob, multi_class='ovo')}\")"
   ]
  },
  {
   "cell_type": "code",
   "execution_count": null,
   "id": "9ed6580a-c074-4f53-994c-e73aa8f60ea6",
   "metadata": {},
   "outputs": [],
   "source": [
    "# Confusion Matrix\n",
    "cm = confusion_matrix(y_test, y_pred)\n",
    "\n",
    "# Plotting the confusion matrix\n",
    "plt.figure(figsize=(10, 8))\n",
    "sns.heatmap(cm, annot=True, fmt='d', cmap='Blues', xticklabels=np.unique(y_test), yticklabels=np.unique(y_test))\n",
    "plt.xlabel('Predicted Label')\n",
    "plt.ylabel('True Label')\n",
    "plt.title('Confusion Matrix')\n",
    "plt.show()\n"
   ]
  }
 ],
 "metadata": {
  "kernelspec": {
   "display_name": "Python (hkenv)",
   "language": "python",
   "name": "hkenv"
  },
  "language_info": {
   "codemirror_mode": {
    "name": "ipython",
    "version": 3
   },
   "file_extension": ".py",
   "mimetype": "text/x-python",
   "name": "python",
   "nbconvert_exporter": "python",
   "pygments_lexer": "ipython3",
   "version": "3.12.4"
  }
 },
 "nbformat": 4,
 "nbformat_minor": 5
}
