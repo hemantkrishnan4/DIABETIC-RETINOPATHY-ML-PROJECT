{
 "cells": [
  {
   "cell_type": "code",
   "execution_count": 3,
   "id": "fd186cbb",
   "metadata": {},
   "outputs": [],
   "source": [
    "import os\n",
    "import pandas as pd\n",
    "from PIL import Image\n",
    "import matplotlib.pyplot as plt\n",
    "\n",
    "# Define paths to the dataset folders\n",
    "data_dir = \"/home/gcekcse/Documents/ML_Project_hk/DATA2/archive/\"\n",
    "train_image_folder = os.path.join(data_dir, 'train_images/')\n",
    "val_image_folder = os.path.join(data_dir, 'val_images/')\n",
    "test_image_folder = os.path.join(data_dir, 'test_images/')\n",
    "\n",
    "# Define paths to the CSV files\n",
    "train_csv_path = os.path.join(data_dir, 'train_1.csv')\n",
    "val_csv_path = os.path.join(data_dir, 'valid.csv')\n",
    "test_csv_path = os.path.join(data_dir, 'test.csv')"
   ]
  }
 ],
 "metadata": {
  "kernelspec": {
   "display_name": "Python (hkenv)",
   "language": "python",
   "name": "hkenv"
  },
  "language_info": {
   "codemirror_mode": {
    "name": "ipython",
    "version": 3
   },
   "file_extension": ".py",
   "mimetype": "text/x-python",
   "name": "python",
   "nbconvert_exporter": "python",
   "pygments_lexer": "ipython3",
   "version": "3.12.4"
  }
 },
 "nbformat": 4,
 "nbformat_minor": 5
}
