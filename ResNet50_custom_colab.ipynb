{
  "nbformat": 4,
  "nbformat_minor": 0,
  "metadata": {
    "colab": {
      "provenance": [],
      "gpuType": "V28"
    },
    "kernelspec": {
      "name": "python3",
      "display_name": "Python 3"
    },
    "language_info": {
      "name": "python"
    },
    "accelerator": "TPU"
  },
  "cells": [
    {
      "cell_type": "code",
      "source": [
        "from google.colab import drive\n",
        "drive.mount('/content/drive')\n"
      ],
      "metadata": {
        "colab": {
          "base_uri": "https://localhost:8080/"
        },
        "id": "XH7FUN9Klr1w",
        "outputId": "4858608e-9bb2-416b-aa6f-b54df635f93d"
      },
      "execution_count": null,
      "outputs": [
        {
          "output_type": "stream",
          "name": "stdout",
          "text": [
            "Drive already mounted at /content/drive; to attempt to forcibly remount, call drive.mount(\"/content/drive\", force_remount=True).\n"
          ]
        }
      ]
    },
    {
      "cell_type": "code",
      "execution_count": 6,
      "metadata": {
        "id": "KPU8em0Pi__Z"
      },
      "outputs": [],
      "source": [
        "import numpy as np\n",
        "import pandas as pd\n",
        "import cv2\n",
        "import os\n",
        "import matplotlib.pyplot as plt\n",
        "import seaborn as sns\n",
        "from datetime import datetime\n",
        "\n",
        "from sklearn.model_selection import train_test_split\n",
        "from sklearn.metrics import classification_report, roc_auc_score, confusion_matrix\n",
        "from sklearn.utils import class_weight\n",
        "\n",
        "import tensorflow as tf\n",
        "from tensorflow.keras.models import Sequential, load_model\n",
        "from tensorflow.keras.layers import Conv2D, MaxPooling2D, Flatten, Dense, Dropout\n",
        "from tensorflow.keras.preprocessing.image import ImageDataGenerator\n",
        "from tensorflow.keras.applications import ResNet50\n",
        "from tensorflow.keras.optimizers import Adam\n",
        "from tensorflow.keras.callbacks import TensorBoard, EarlyStopping, ModelCheckpoint\n",
        "\n"
      ]
    },
    {
      "cell_type": "code",
      "source": [
        "# Path to your image dataset\n",
        "#data_dir = '/content/drive/MyDrive/Hemant/Projects/aptos2019-blindness-detection/G1/G1_images'\n",
        "#labels_file = '/home/gcekcse/Documents/ML_Project_hk/aptos2019-blindness-detection/G1/G1.csv'\n",
        "data_dir = '/content/drive/MyDrive/Hemant/Projects/aptos2019-blindness-detection/G1/G1_images/'\n",
        "labels_file = '/content/drive/MyDrive/Hemant/Projects/aptos2019-blindness-detection/G1/G1.csv'\n",
        "\n",
        "\n",
        "# Load labels\n",
        "df = pd.read_csv(labels_file)\n",
        "\n"
      ],
      "metadata": {
        "id": "eCjrvyAOjmQE"
      },
      "execution_count": 7,
      "outputs": []
    },
    {
      "cell_type": "code",
      "source": [
        "# Count the number of samples for each class\n",
        "class_counts = df['diagnosis'].value_counts().reset_index()\n",
        "\n",
        "# Rename the columns for better understanding\n",
        "class_counts.columns = ['Class', 'Number of Samples']\n",
        "\n",
        "# Display the tabular view\n",
        "print(class_counts)"
      ],
      "metadata": {
        "id": "w--Fca-FjmNv",
        "colab": {
          "base_uri": "https://localhost:8080/"
        },
        "outputId": "59af6981-eba5-476e-ec2b-251156fc1e40"
      },
      "execution_count": 8,
      "outputs": [
        {
          "output_type": "stream",
          "name": "stdout",
          "text": [
            "   Class  Number of Samples\n",
            "0      0               1805\n",
            "1      2                999\n",
            "2      1                370\n",
            "3      4                295\n",
            "4      3                193\n"
          ]
        }
      ]
    },
    {
      "cell_type": "code",
      "source": [
        "# Split data into training and testing\n",
        "train_df, test_df = train_test_split(df, test_size=0.2, random_state=42)\n",
        "\n",
        "# Display sample data\n",
        "print(train_df.head())"
      ],
      "metadata": {
        "id": "PBiuvy2ajmLW",
        "colab": {
          "base_uri": "https://localhost:8080/"
        },
        "outputId": "afba4d17-8f2b-44c0-818e-82207e1a9601"
      },
      "execution_count": 9,
      "outputs": [
        {
          "output_type": "stream",
          "name": "stdout",
          "text": [
            "           id_code  diagnosis\n",
            "2181  996f9bba4ef0          0\n",
            "570   286e9981dd9b          0\n",
            "3389  eae70f527755          0\n",
            "343   19244004583f          3\n",
            "1801  7f0ffeb0a333          0\n"
          ]
        }
      ]
    },
    {
      "cell_type": "code",
      "source": [
        "'''import cv2\n",
        "import os\n",
        "\n",
        "image_directory = '/content/drive/MyDrive/Hemant/Projects/aptos2019-blindness-detection/G1/G1_images'\n",
        "image_files = os.listdir(image_directory)\n",
        "\n",
        "# Check for files\n",
        "if not image_files:\n",
        "    print(\"No files found in the specified directory.\")\n",
        "else:\n",
        "    print(f\"Found {len(image_files)} files in the directory.\")\n",
        "\n",
        "# Loop through each image file and attempt to load it\n",
        "for image_file in image_files:\n",
        "    image_path = os.path.join(image_directory, image_file)\n",
        "    try:\n",
        "        image = cv2.imread(image_path)\n",
        "        if image is None:\n",
        "            print(f\"Error: Unable to load image at {image_path}\")\n",
        "        else:\n",
        "            print(f\"Successfully loaded image at {image_path}\")\n",
        "    except Exception as e:\n",
        "        print(f\"Exception occurred for {image_path}: {e}\")\n",
        "\n",
        "# Optionally, you can keep a list of the problematic files\n",
        "problematic_files = []\n",
        "for image_file in image_files:\n",
        "    image_path = os.path.join(image_directory, image_file)\n",
        "    if cv2.imread(image_path) is None:\n",
        "        problematic_files.append(image_file)\n",
        "\n",
        "print(\"Problematic files that could not be loaded:\")\n",
        "for file in problematic_files:\n",
        "    print(file)\n",
        "'''"
      ],
      "metadata": {
        "colab": {
          "base_uri": "https://localhost:8080/",
          "height": 140
        },
        "collapsed": true,
        "id": "4BJ_YEAzl_M7",
        "outputId": "de4039b0-1909-4c2c-8631-9bbd090f9a8f"
      },
      "execution_count": null,
      "outputs": [
        {
          "output_type": "execute_result",
          "data": {
            "text/plain": [
              "'import cv2\\nimport os\\n\\nimage_directory = \\'/content/drive/MyDrive/Hemant/Projects/aptos2019-blindness-detection/G1/G1_images\\'\\nimage_files = os.listdir(image_directory)\\n\\n# Check for files\\nif not image_files:\\n    print(\"No files found in the specified directory.\")\\nelse:\\n    print(f\"Found {len(image_files)} files in the directory.\")\\n\\n# Loop through each image file and attempt to load it\\nfor image_file in image_files:\\n    image_path = os.path.join(image_directory, image_file)\\n    try:\\n        image = cv2.imread(image_path)\\n        if image is None:\\n            print(f\"Error: Unable to load image at {image_path}\")\\n        else:\\n            print(f\"Successfully loaded image at {image_path}\")\\n    except Exception as e:\\n        print(f\"Exception occurred for {image_path}: {e}\")\\n\\n# Optionally, you can keep a list of the problematic files\\nproblematic_files = []\\nfor image_file in image_files:\\n    image_path = os.path.join(image_directory, image_file)\\n    if cv2.imread(image_path) is None:\\n        problematic_files.append(image_file)\\n\\nprint(\"Problematic files that could not be loaded:\")\\nfor file in problematic_files:\\n    print(file)\\n'"
            ],
            "application/vnd.google.colaboratory.intrinsic+json": {
              "type": "string"
            }
          },
          "metadata": {},
          "execution_count": 14
        }
      ]
    },
    {
      "cell_type": "code",
      "source": [
        "import cv2\n",
        "import os\n",
        "import numpy as np\n",
        "\n",
        "# Directory containing the images\n",
        "image_directory = '/content/drive/MyDrive/Hemant/Projects/aptos2019-blindness-detection/G1/G1_images'\n",
        "data_dir = image_directory  # You can change this if needed\n",
        "IMG_SIZE = 224  # Resize images to 224x224\n",
        "\n",
        "# Function to check and load images\n",
        "def load_images(image_directory):\n",
        "    image_files = os.listdir(image_directory)\n",
        "\n",
        "    # Check for files\n",
        "    if not image_files:\n",
        "        print(\"No files found in the specified directory.\")\n",
        "        return [], []\n",
        "    else:\n",
        "        print(f\"Found {len(image_files)} files in the directory.\")\n",
        "\n",
        "    # Lists to store successfully loaded images and problematic files\n",
        "    loaded_images = []\n",
        "    problematic_files = []\n",
        "\n",
        "    # Loop through each image file and attempt to load it\n",
        "    for image_file in image_files:\n",
        "        image_path = os.path.join(image_directory, image_file)\n",
        "        try:\n",
        "            image = cv2.imread(image_path)\n",
        "            if image is None:\n",
        "                print(f\"Error: Unable to load image at {image_path}\")\n",
        "                problematic_files.append(image_file)\n",
        "            else:\n",
        "                print(f\"Successfully loaded image at {image_path}\")\n",
        "                loaded_images.append((image_file, image))  # Store filename and image\n",
        "        except Exception as e:\n",
        "            print(f\"Exception occurred for {image_path}: {e}\")\n",
        "            problematic_files.append(image_file)\n",
        "\n",
        "    print(\"Problematic files that could not be loaded:\")\n",
        "    for file in problematic_files:\n",
        "        print(file)\n",
        "\n",
        "    return loaded_images, problematic_files\n",
        "\n",
        "# Function to preprocess images\n",
        "def preprocess_image(image):\n",
        "    img = cv2.resize(image, (IMG_SIZE, IMG_SIZE))  # Resize the image\n",
        "    img = img / 255.0  # Normalize\n",
        "    return img\n",
        "\n",
        "def preprocess_data(dataframe, loaded_images):\n",
        "    X = []\n",
        "    y = []\n",
        "    file_dict = {file[0]: file[1] for file in loaded_images}  # Map filenames to images\n",
        "\n",
        "    for idx, row in dataframe.iterrows():\n",
        "        img_name = row['id_code'] + \".png\"  # Assuming .png extension\n",
        "        if img_name in file_dict:  # Check if the image was loaded successfully\n",
        "            img = preprocess_image(file_dict[img_name])  # Preprocess the image\n",
        "            X.append(img)\n",
        "            y.append(row['diagnosis'])  # Assuming 'diagnosis' contains the target label\n",
        "\n",
        "        if idx % 100 == 0:  # Log progress every 100 images\n",
        "            print(f\"Processed {idx + 1}/{len(dataframe)} images.\")\n",
        "\n",
        "    return np.array(X), np.array(y)\n",
        "\n",
        "# Load images\n",
        "print(\"Loading images from directory...\")\n",
        "loaded_images, problematic_files = load_images(image_directory)\n",
        "\n",
        "# Preprocess data\n",
        "print(\"Preprocessing training data...\")\n",
        "X_train, y_train = preprocess_data(train_df, loaded_images)\n",
        "\n",
        "print(\"Preprocessing test data...\")\n",
        "X_test, y_test = preprocess_data(test_df, loaded_images)\n",
        "\n",
        "print(\"Preprocessing completed.\")\n",
        "\n",
        "# Define the directory where you want to save the data\n",
        "save_dir = '/content/drive/MyDrive/Hemant/Projects/aptos2019-blindness-detection/data/'\n",
        "\n",
        "# Create the directory if it doesn't exist\n",
        "os.makedirs(save_dir, exist_ok=True)\n",
        "\n",
        "# Save training data\n",
        "np.save(os.path.join(save_dir, 'X_train.npy'), X_train)\n",
        "np.save(os.path.join(save_dir, 'y_train.npy'), y_train)\n",
        "\n",
        "# Save test data\n",
        "np.save(os.path.join(save_dir, 'X_test.npy'), X_test)\n",
        "np.save(os.path.join(save_dir, 'y_test.npy'), y_test)\n",
        "\n"
      ],
      "metadata": {
        "colab": {
          "base_uri": "https://localhost:8080/",
          "height": 592
        },
        "collapsed": true,
        "id": "xVCdSUNjqY6h",
        "outputId": "b754ab9c-dc3a-4efb-c0a8-46ccbf90037e"
      },
      "execution_count": 6,
      "outputs": [
        {
          "output_type": "stream",
          "name": "stdout",
          "text": [
            "Loading images from directory...\n",
            "Found 1216 files in the directory.\n",
            "Successfully loaded image at /content/drive/MyDrive/Hemant/Projects/aptos2019-blindness-detection/G1/G1_images/357f02a779d7.png\n",
            "Successfully loaded image at /content/drive/MyDrive/Hemant/Projects/aptos2019-blindness-detection/G1/G1_images/365f8c01d994.png\n",
            "Successfully loaded image at /content/drive/MyDrive/Hemant/Projects/aptos2019-blindness-detection/G1/G1_images/35df2bc6ae95.png\n",
            "Successfully loaded image at /content/drive/MyDrive/Hemant/Projects/aptos2019-blindness-detection/G1/G1_images/359bab5d784b.png\n",
            "Successfully loaded image at /content/drive/MyDrive/Hemant/Projects/aptos2019-blindness-detection/G1/G1_images/35cd9832fc0a.png\n",
            "Successfully loaded image at /content/drive/MyDrive/Hemant/Projects/aptos2019-blindness-detection/G1/G1_images/356304d15a5c.png\n",
            "Successfully loaded image at /content/drive/MyDrive/Hemant/Projects/aptos2019-blindness-detection/G1/G1_images/35beb47fe159.png\n",
            "Successfully loaded image at /content/drive/MyDrive/Hemant/Projects/aptos2019-blindness-detection/G1/G1_images/37c4dfe03aba.png\n",
            "Successfully loaded image at /content/drive/MyDrive/Hemant/Projects/aptos2019-blindness-detection/G1/G1_images/367c7049929c.png\n",
            "Successfully loaded image at /content/drive/MyDrive/Hemant/Projects/aptos2019-blindness-detection/G1/G1_images/370f575adb23.png\n",
            "Successfully loaded image at /content/drive/MyDrive/Hemant/Projects/aptos2019-blindness-detection/G1/G1_images/3730c322d35b.png\n",
            "Successfully loaded image at /content/drive/MyDrive/Hemant/Projects/aptos2019-blindness-detection/G1/G1_images/369229040a34.png\n",
            "Successfully loaded image at /content/drive/MyDrive/Hemant/Projects/aptos2019-blindness-detection/G1/G1_images/36e4b704b905.png\n"
          ]
        },
        {
          "output_type": "error",
          "ename": "KeyboardInterrupt",
          "evalue": "",
          "traceback": [
            "\u001b[0;31m---------------------------------------------------------------------------\u001b[0m",
            "\u001b[0;31mKeyboardInterrupt\u001b[0m                         Traceback (most recent call last)",
            "\u001b[0;32m<ipython-input-6-ee1722aced03>\u001b[0m in \u001b[0;36m<cell line: 71>\u001b[0;34m()\u001b[0m\n\u001b[1;32m     69\u001b[0m \u001b[0;31m# Load images\u001b[0m\u001b[0;34m\u001b[0m\u001b[0;34m\u001b[0m\u001b[0m\n\u001b[1;32m     70\u001b[0m \u001b[0mprint\u001b[0m\u001b[0;34m(\u001b[0m\u001b[0;34m\"Loading images from directory...\"\u001b[0m\u001b[0;34m)\u001b[0m\u001b[0;34m\u001b[0m\u001b[0;34m\u001b[0m\u001b[0m\n\u001b[0;32m---> 71\u001b[0;31m \u001b[0mloaded_images\u001b[0m\u001b[0;34m,\u001b[0m \u001b[0mproblematic_files\u001b[0m \u001b[0;34m=\u001b[0m \u001b[0mload_images\u001b[0m\u001b[0;34m(\u001b[0m\u001b[0mimage_directory\u001b[0m\u001b[0;34m)\u001b[0m\u001b[0;34m\u001b[0m\u001b[0;34m\u001b[0m\u001b[0m\n\u001b[0m\u001b[1;32m     72\u001b[0m \u001b[0;34m\u001b[0m\u001b[0m\n\u001b[1;32m     73\u001b[0m \u001b[0;31m# Preprocess data\u001b[0m\u001b[0;34m\u001b[0m\u001b[0;34m\u001b[0m\u001b[0m\n",
            "\u001b[0;32m<ipython-input-6-ee1722aced03>\u001b[0m in \u001b[0;36mload_images\u001b[0;34m(image_directory)\u001b[0m\n\u001b[1;32m     27\u001b[0m         \u001b[0mimage_path\u001b[0m \u001b[0;34m=\u001b[0m \u001b[0mos\u001b[0m\u001b[0;34m.\u001b[0m\u001b[0mpath\u001b[0m\u001b[0;34m.\u001b[0m\u001b[0mjoin\u001b[0m\u001b[0;34m(\u001b[0m\u001b[0mimage_directory\u001b[0m\u001b[0;34m,\u001b[0m \u001b[0mimage_file\u001b[0m\u001b[0;34m)\u001b[0m\u001b[0;34m\u001b[0m\u001b[0;34m\u001b[0m\u001b[0m\n\u001b[1;32m     28\u001b[0m         \u001b[0;32mtry\u001b[0m\u001b[0;34m:\u001b[0m\u001b[0;34m\u001b[0m\u001b[0;34m\u001b[0m\u001b[0m\n\u001b[0;32m---> 29\u001b[0;31m             \u001b[0mimage\u001b[0m \u001b[0;34m=\u001b[0m \u001b[0mcv2\u001b[0m\u001b[0;34m.\u001b[0m\u001b[0mimread\u001b[0m\u001b[0;34m(\u001b[0m\u001b[0mimage_path\u001b[0m\u001b[0;34m)\u001b[0m\u001b[0;34m\u001b[0m\u001b[0;34m\u001b[0m\u001b[0m\n\u001b[0m\u001b[1;32m     30\u001b[0m             \u001b[0;32mif\u001b[0m \u001b[0mimage\u001b[0m \u001b[0;32mis\u001b[0m \u001b[0;32mNone\u001b[0m\u001b[0;34m:\u001b[0m\u001b[0;34m\u001b[0m\u001b[0;34m\u001b[0m\u001b[0m\n\u001b[1;32m     31\u001b[0m                 \u001b[0mprint\u001b[0m\u001b[0;34m(\u001b[0m\u001b[0;34mf\"Error: Unable to load image at {image_path}\"\u001b[0m\u001b[0;34m)\u001b[0m\u001b[0;34m\u001b[0m\u001b[0;34m\u001b[0m\u001b[0m\n",
            "\u001b[0;31mKeyboardInterrupt\u001b[0m: "
          ]
        }
      ]
    },
    {
      "cell_type": "code",
      "source": [
        "import numpy as np\n",
        "import os\n",
        "\n",
        "# Define the directory where your data is stored\n",
        "data_dir = '/content/drive/MyDrive/Hemant/Projects/aptos2019-blindness-detection/data/'\n",
        "\n",
        "# Load data\n",
        "X_train = np.load(os.path.join(data_dir, 'X_train.npy'))\n",
        "y_train = np.load(os.path.join(data_dir, 'y_train.npy'))\n",
        "X_test = np.load(os.path.join(data_dir, 'X_test.npy'))\n",
        "y_test = np.load(os.path.join(data_dir, 'y_test.npy'))"
      ],
      "metadata": {
        "id": "FSmcBRGgjmGv"
      },
      "execution_count": 10,
      "outputs": []
    },
    {
      "cell_type": "code",
      "source": [
        "# Import necessary libraries\n",
        "from tensorflow.keras.applications import ResNet50\n",
        "from tensorflow.keras.models import Sequential\n",
        "from tensorflow.keras.layers import Flatten, Dense, Dropout\n",
        "from tensorflow.keras.optimizers import Adam\n",
        "\n",
        "# Set the image size\n",
        "IMG_SIZE = 224  # Change this if your input size is different\n",
        "\n",
        "# Load ResNet50 base model (pre-trained on ImageNet)\n",
        "base_model = ResNet50(weights='imagenet', include_top=False, input_shape=(IMG_SIZE, IMG_SIZE, 3))\n",
        "\n",
        "# Freeze the base model\n",
        "base_model.trainable = False\n",
        "\n",
        "# Add custom layers on top\n",
        "model = Sequential([\n",
        "    base_model,\n",
        "    Flatten(),\n",
        "    Dense(512, activation='relu'),\n",
        "    Dropout(0.5),\n",
        "    Dense(5, activation='softmax')  # Assuming 5 DR severity levels\n",
        "])\n",
        "\n",
        "# Compile the model\n",
        "model.compile(optimizer=Adam(learning_rate=1e-4), loss='sparse_categorical_crossentropy', metrics=['accuracy'])\n",
        "\n",
        "# Build the model to define all shapes\n",
        "model.build((None, IMG_SIZE, IMG_SIZE, 3))  # Add this line to explicitly define the input shape\n",
        "\n",
        "# View the model summary\n",
        "model.summary()\n"
      ],
      "metadata": {
        "colab": {
          "base_uri": "https://localhost:8080/"
        },
        "id": "nEz4rT-nyGnz",
        "outputId": "c938b162-83f5-42a0-d82d-be0df8be8dc8"
      },
      "execution_count": 11,
      "outputs": [
        {
          "output_type": "stream",
          "name": "stdout",
          "text": [
            "Model: \"sequential_1\"\n",
            "_________________________________________________________________\n",
            " Layer (type)                Output Shape              Param #   \n",
            "=================================================================\n",
            " resnet50 (Functional)       (None, 7, 7, 2048)        23587712  \n",
            "                                                                 \n",
            " flatten_1 (Flatten)         (None, 100352)            0         \n",
            "                                                                 \n",
            " dense_2 (Dense)             (None, 512)               51380736  \n",
            "                                                                 \n",
            " dropout_1 (Dropout)         (None, 512)               0         \n",
            "                                                                 \n",
            " dense_3 (Dense)             (None, 5)                 2565      \n",
            "                                                                 \n",
            "=================================================================\n",
            "Total params: 74971013 (285.99 MB)\n",
            "Trainable params: 51383301 (196.01 MB)\n",
            "Non-trainable params: 23587712 (89.98 MB)\n",
            "_________________________________________________________________\n"
          ]
        }
      ]
    },
    {
      "cell_type": "code",
      "source": [
        "\n",
        "# Check if GPU is available\n",
        "print(\"Num GPUs Available: \", len(tf.config.list_physical_devices('GPU')))\n",
        "\n",
        "# Data augmentation\n",
        "datagen = ImageDataGenerator(\n",
        "    rotation_range=20,\n",
        "    zoom_range=0.15,\n",
        "    width_shift_range=0.2,\n",
        "    height_shift_range=0.2,\n",
        "    shear_range=0.15,\n",
        "    horizontal_flip=True,\n",
        "    fill_mode=\"nearest\"\n",
        ")\n",
        "\n",
        "# Define the checkpoint callback to overwrite the saved model after each epoch\n",
        "checkpoint_callback = ModelCheckpoint(\n",
        "    filepath='/content/drive/MyDrive/Hemant/Projects/aptos2019-blindness-detection/models/model.keras',  # Change to .keras\n",
        "    save_best_only=False,\n",
        "    save_weights_only=False,\n",
        "    verbose=1\n",
        ")\n",
        "\n",
        "# Early stopping callback\n",
        "early_stopping = EarlyStopping(monitor='val_loss', patience=5, restore_best_weights=True)"
      ],
      "metadata": {
        "id": "XkxyoZODjmCh",
        "colab": {
          "base_uri": "https://localhost:8080/"
        },
        "outputId": "dc687873-4d33-446b-b78c-4db18c3b573c"
      },
      "execution_count": 12,
      "outputs": [
        {
          "output_type": "stream",
          "name": "stdout",
          "text": [
            "Num GPUs Available:  0\n"
          ]
        }
      ]
    },
    {
      "cell_type": "code",
      "source": [
        "# Fit the model\n",
        "history = model.fit(\n",
        "    datagen.flow(X_train, y_train, batch_size=32),\n",
        "    validation_data=(X_test, y_test),\n",
        "    epochs=50,\n",
        "    callbacks=[checkpoint_callback, early_stopping]\n",
        ")\n"
      ],
      "metadata": {
        "id": "1watxedXjmAi",
        "colab": {
          "base_uri": "https://localhost:8080/"
        },
        "outputId": "cae161f6-6310-4a4f-b74d-2138cffd9810"
      },
      "execution_count": null,
      "outputs": [
        {
          "output_type": "stream",
          "name": "stdout",
          "text": [
            "Epoch 1/50\n",
            "30/30 [==============================] - ETA: 0s - loss: 1.3765 - accuracy: 0.7954\n",
            "Epoch 1: saving model to /content/drive/MyDrive/Hemant/Projects/aptos2019-blindness-detection/models/model.keras\n",
            "30/30 [==============================] - 40s 1s/step - loss: 1.3765 - accuracy: 0.7954 - val_loss: 1.1100 - val_accuracy: 0.8157\n",
            "Epoch 2/50\n",
            "30/30 [==============================] - ETA: 0s - loss: 0.7088 - accuracy: 0.8395\n",
            "Epoch 2: saving model to /content/drive/MyDrive/Hemant/Projects/aptos2019-blindness-detection/models/model.keras\n",
            "30/30 [==============================] - 30s 996ms/step - loss: 0.7088 - accuracy: 0.8395 - val_loss: 0.7172 - val_accuracy: 0.8157\n",
            "Epoch 3/50\n",
            "30/30 [==============================] - ETA: 0s - loss: 0.6025 - accuracy: 0.8678\n",
            "Epoch 3: saving model to /content/drive/MyDrive/Hemant/Projects/aptos2019-blindness-detection/models/model.keras\n",
            "30/30 [==============================] - 30s 1s/step - loss: 0.6025 - accuracy: 0.8678 - val_loss: 0.7150 - val_accuracy: 0.8157\n",
            "Epoch 4/50\n",
            "30/30 [==============================] - ETA: 0s - loss: 0.5837 - accuracy: 0.8678\n",
            "Epoch 4: saving model to /content/drive/MyDrive/Hemant/Projects/aptos2019-blindness-detection/models/model.keras\n",
            "30/30 [==============================] - 29s 965ms/step - loss: 0.5837 - accuracy: 0.8678 - val_loss: 0.6922 - val_accuracy: 0.8157\n",
            "Epoch 5/50\n",
            "30/30 [==============================] - ETA: 0s - loss: 0.5821 - accuracy: 0.8667\n",
            "Epoch 5: saving model to /content/drive/MyDrive/Hemant/Projects/aptos2019-blindness-detection/models/model.keras\n",
            "30/30 [==============================] - 29s 965ms/step - loss: 0.5821 - accuracy: 0.8667 - val_loss: 0.7268 - val_accuracy: 0.8157\n",
            "Epoch 6/50\n",
            "30/30 [==============================] - ETA: 0s - loss: 0.6085 - accuracy: 0.8646\n",
            "Epoch 6: saving model to /content/drive/MyDrive/Hemant/Projects/aptos2019-blindness-detection/models/model.keras\n",
            "30/30 [==============================] - 29s 970ms/step - loss: 0.6085 - accuracy: 0.8646 - val_loss: 0.6979 - val_accuracy: 0.8157\n",
            "Epoch 7/50\n",
            "30/30 [==============================] - ETA: 0s - loss: 0.6075 - accuracy: 0.8657\n",
            "Epoch 7: saving model to /content/drive/MyDrive/Hemant/Projects/aptos2019-blindness-detection/models/model.keras\n",
            "30/30 [==============================] - 29s 977ms/step - loss: 0.6075 - accuracy: 0.8657 - val_loss: 0.6995 - val_accuracy: 0.8157\n",
            "Epoch 8/50\n",
            "30/30 [==============================] - ETA: 0s - loss: 0.5841 - accuracy: 0.8667\n",
            "Epoch 8: saving model to /content/drive/MyDrive/Hemant/Projects/aptos2019-blindness-detection/models/model.keras\n",
            "30/30 [==============================] - 29s 974ms/step - loss: 0.5841 - accuracy: 0.8667 - val_loss: 0.7380 - val_accuracy: 0.8157\n",
            "Epoch 9/50\n",
            "30/30 [==============================] - ETA: 0s - loss: 0.6037 - accuracy: 0.8657\n",
            "Epoch 9: saving model to /content/drive/MyDrive/Hemant/Projects/aptos2019-blindness-detection/models/model.keras\n",
            "30/30 [==============================] - 29s 975ms/step - loss: 0.6037 - accuracy: 0.8657 - val_loss: 0.6906 - val_accuracy: 0.8157\n",
            "Epoch 10/50\n",
            "30/30 [==============================] - ETA: 0s - loss: 0.5802 - accuracy: 0.8657\n",
            "Epoch 10: saving model to /content/drive/MyDrive/Hemant/Projects/aptos2019-blindness-detection/models/model.keras\n",
            "30/30 [==============================] - 29s 977ms/step - loss: 0.5802 - accuracy: 0.8657 - val_loss: 0.7409 - val_accuracy: 0.8157\n",
            "Epoch 11/50\n",
            "30/30 [==============================] - ETA: 0s - loss: 0.6104 - accuracy: 0.8667\n",
            "Epoch 11: saving model to /content/drive/MyDrive/Hemant/Projects/aptos2019-blindness-detection/models/model.keras\n",
            "30/30 [==============================] - 29s 975ms/step - loss: 0.6104 - accuracy: 0.8667 - val_loss: 0.6888 - val_accuracy: 0.8157\n",
            "Epoch 12/50\n",
            "30/30 [==============================] - ETA: 0s - loss: 0.5752 - accuracy: 0.8667\n",
            "Epoch 12: saving model to /content/drive/MyDrive/Hemant/Projects/aptos2019-blindness-detection/models/model.keras\n",
            "30/30 [==============================] - 30s 998ms/step - loss: 0.5752 - accuracy: 0.8667 - val_loss: 0.6955 - val_accuracy: 0.8157\n",
            "Epoch 13/50\n",
            "30/30 [==============================] - ETA: 0s - loss: 0.5796 - accuracy: 0.8667\n",
            "Epoch 13: saving model to /content/drive/MyDrive/Hemant/Projects/aptos2019-blindness-detection/models/model.keras\n",
            "30/30 [==============================] - 29s 979ms/step - loss: 0.5796 - accuracy: 0.8667 - val_loss: 0.6765 - val_accuracy: 0.8157\n",
            "Epoch 14/50\n",
            "30/30 [==============================] - ETA: 0s - loss: 0.5725 - accuracy: 0.8678\n",
            "Epoch 14: saving model to /content/drive/MyDrive/Hemant/Projects/aptos2019-blindness-detection/models/model.keras\n",
            "30/30 [==============================] - 29s 974ms/step - loss: 0.5725 - accuracy: 0.8678 - val_loss: 0.7127 - val_accuracy: 0.8157\n",
            "Epoch 15/50\n",
            "30/30 [==============================] - ETA: 0s - loss: 0.6121 - accuracy: 0.8667\n",
            "Epoch 15: saving model to /content/drive/MyDrive/Hemant/Projects/aptos2019-blindness-detection/models/model.keras\n",
            "30/30 [==============================] - 29s 970ms/step - loss: 0.6121 - accuracy: 0.8667 - val_loss: 0.7020 - val_accuracy: 0.8157\n",
            "Epoch 16/50\n",
            "30/30 [==============================] - ETA: 0s - loss: 0.5934 - accuracy: 0.8667\n",
            "Epoch 16: saving model to /content/drive/MyDrive/Hemant/Projects/aptos2019-blindness-detection/models/model.keras\n",
            "30/30 [==============================] - 29s 968ms/step - loss: 0.5934 - accuracy: 0.8667 - val_loss: 0.7697 - val_accuracy: 0.8157\n",
            "Epoch 17/50\n",
            "30/30 [==============================] - ETA: 0s - loss: 0.5674 - accuracy: 0.8678\n",
            "Epoch 17: saving model to /content/drive/MyDrive/Hemant/Projects/aptos2019-blindness-detection/models/model.keras\n",
            "30/30 [==============================] - 29s 973ms/step - loss: 0.5674 - accuracy: 0.8678 - val_loss: 0.6681 - val_accuracy: 0.8157\n",
            "Epoch 18/50\n",
            "30/30 [==============================] - ETA: 0s - loss: 0.5952 - accuracy: 0.8646\n",
            "Epoch 18: saving model to /content/drive/MyDrive/Hemant/Projects/aptos2019-blindness-detection/models/model.keras\n",
            "30/30 [==============================] - 29s 974ms/step - loss: 0.5952 - accuracy: 0.8646 - val_loss: 0.6762 - val_accuracy: 0.8157\n",
            "Epoch 19/50\n",
            "30/30 [==============================] - ETA: 0s - loss: 0.5706 - accuracy: 0.8678\n",
            "Epoch 19: saving model to /content/drive/MyDrive/Hemant/Projects/aptos2019-blindness-detection/models/model.keras\n",
            "30/30 [==============================] - 29s 981ms/step - loss: 0.5706 - accuracy: 0.8678 - val_loss: 0.7151 - val_accuracy: 0.8157\n",
            "Epoch 20/50\n",
            "30/30 [==============================] - ETA: 0s - loss: 0.5748 - accuracy: 0.8678\n",
            "Epoch 20: saving model to /content/drive/MyDrive/Hemant/Projects/aptos2019-blindness-detection/models/model.keras\n",
            "30/30 [==============================] - 29s 979ms/step - loss: 0.5748 - accuracy: 0.8678 - val_loss: 0.7074 - val_accuracy: 0.8157\n",
            "Epoch 21/50\n",
            "30/30 [==============================] - ETA: 0s - loss: 0.5778 - accuracy: 0.8678\n",
            "Epoch 21: saving model to /content/drive/MyDrive/Hemant/Projects/aptos2019-blindness-detection/models/model.keras\n",
            "30/30 [==============================] - 29s 967ms/step - loss: 0.5778 - accuracy: 0.8678 - val_loss: 0.6839 - val_accuracy: 0.8157\n",
            "Epoch 22/50\n",
            "17/30 [================>.............] - ETA: 9s - loss: 0.5561 - accuracy: 0.8768 "
          ]
        }
      ]
    },
    {
      "cell_type": "code",
      "source": [
        "import numpy as np\n",
        "import tensorflow as tf\n",
        "from tensorflow.keras.models import load_model\n",
        "from sklearn.metrics import classification_report, roc_auc_score\n",
        "\n",
        "# Step 1: Load the model\n",
        "print(\"Loading the model...\")\n",
        "#model = load_model(r'/content/drive/MyDrive/Hemant/Projects/aptos2019-blindness-detection/models/model.keras')\n",
        "\n",
        "# Define the directory where your data is stored\n",
        "data_dir = '/content/drive/MyDrive/Hemant/Projects/aptos2019-blindness-detection/data/'\n",
        "\n",
        "# Step 2: Load the test data\n",
        "print(\"Loading test data...\")\n",
        "X_test = np.load(os.path.join(data_dir, 'X_test.npy'))\n",
        "y_test = np.load(os.path.join(data_dir, 'y_test.npy'))\n",
        "\n",
        "print(f\"Test data shape: X_test: {X_test.shape}, y_test: {y_test.shape}\")\n",
        "\n",
        "# Step 3: Convert test data to tensor\n",
        "print(\"Converting X_test to tensor...\")\n",
        "X_test_tensor = tf.convert_to_tensor(X_test, dtype=tf.float32)\n",
        "\n",
        "# Step 4: Evaluate the model on the test set\n",
        "print(\"Evaluating the model on the test set...\")\n",
        "test_loss, test_acc = model.evaluate(X_test_tensor, y_test, verbose=1)\n",
        "print(f\"Test Loss: {test_loss:.4f}, Test Accuracy: {test_acc * 100:.2f}%\")\n",
        "\n",
        "# Step 5: Make predictions and print classification report\n",
        "print(\"Predicting on test data...\")\n",
        "y_pred = np.argmax(model.predict(X_test_tensor, verbose=1), axis=1)\n",
        "print(\"Generating classification report...\")\n",
        "print(classification_report(y_test, y_pred, zero_division=1))\n",
        "\n",
        "# Step 6: Compute ROC-AUC score\n",
        "print(\"Calculating predicted probabilities for ROC-AUC...\")\n",
        "y_pred_prob = model.predict(X_test_tensor, verbose=1)  # Get the predicted probabilities\n",
        "print(f\"Calculating AUC-ROC...\")\n",
        "print(f\"AUC-ROC: {roc_auc_score(y_test, y_pred_prob, multi_class='ovo')}\")\n"
      ],
      "metadata": {
        "id": "kbdDsKDzjl-q",
        "colab": {
          "base_uri": "https://localhost:8080/"
        },
        "outputId": "376eb230-cc35-450f-985b-835f37188102"
      },
      "execution_count": null,
      "outputs": [
        {
          "output_type": "stream",
          "name": "stdout",
          "text": [
            "Loading the model...\n",
            "Loading test data...\n",
            "Test data shape: X_test: (255, 224, 224, 3), y_test: (255,)\n",
            "Converting X_test to tensor...\n",
            "Evaluating the model on the test set...\n",
            "8/8 [==============================] - 6s 521ms/step - loss: 0.6822 - accuracy: 0.8157\n",
            "Test Loss: 0.6822, Test Accuracy: 81.57%\n",
            "Predicting on test data...\n",
            "8/8 [==============================] - 5s 492ms/step\n",
            "Generating classification report...\n",
            "              precision    recall  f1-score   support\n",
            "\n",
            "           0       0.82      1.00      0.90       208\n",
            "           1       1.00      0.00      0.00         9\n",
            "           2       1.00      0.00      0.00        22\n",
            "           3       1.00      0.00      0.00         4\n",
            "           4       1.00      0.00      0.00        12\n",
            "\n",
            "    accuracy                           0.82       255\n",
            "   macro avg       0.96      0.20      0.18       255\n",
            "weighted avg       0.85      0.82      0.73       255\n",
            "\n",
            "Calculating predicted probabilities for ROC-AUC...\n",
            "8/8 [==============================] - 4s 524ms/step\n",
            "Calculating AUC-ROC...\n",
            "AUC-ROC: 0.6170891608391609\n"
          ]
        }
      ]
    },
    {
      "cell_type": "code",
      "source": [
        "# Confusion Matrix\n",
        "cm = confusion_matrix(y_test, y_pred)\n",
        "\n",
        "# Plotting the confusion matrix\n",
        "plt.figure(figsize=(10, 8))\n",
        "sns.heatmap(cm, annot=True, fmt='d', cmap='Blues', xticklabels=np.unique(y_test), yticklabels=np.unique(y_test))\n",
        "plt.xlabel('Predicted Label')\n",
        "plt.ylabel('True Label')\n",
        "plt.title('Confusion Matrix')\n",
        "plt.show()\n"
      ],
      "metadata": {
        "id": "KGWb9_-jjl8W",
        "colab": {
          "base_uri": "https://localhost:8080/",
          "height": 718
        },
        "outputId": "3abcbdf2-1bb3-4330-cd01-fc767cfced39"
      },
      "execution_count": null,
      "outputs": [
        {
          "output_type": "display_data",
          "data": {
            "text/plain": [
              "<Figure size 1000x800 with 2 Axes>"
            ],
            "image/png": "[encoded data removed]"
          },
          "metadata": {}
        }
      ]
    },
    {
      "cell_type": "code",
      "source": [
        "!tensorboard --logdir=logs/fit\n"
      ],
      "metadata": {
        "id": "vcT5yXuhjl6P",
        "colab": {
          "base_uri": "https://localhost:8080/"
        },
        "outputId": "5b211b1e-1e92-48e2-f628-80a9bb72bfdf"
      },
      "execution_count": null,
      "outputs": [
        {
          "output_type": "stream",
          "name": "stdout",
          "text": [
            "\n",
            "NOTE: Using experimental fast data loading logic. To disable, pass\n",
            "    \"--load_fast=false\" and report issues on GitHub. More details:\n",
            "    https://github.com/tensorflow/tensorboard/issues/4784\n",
            "\n",
            "Serving TensorBoard on localhost; to expose to the network, use a proxy or pass --bind_all\n",
            "TensorBoard 2.15.2 at http://localhost:6006/ (Press CTRL+C to quit)\n"
          ]
        }
      ]
    },
    {
      "cell_type": "code",
      "source": [],
      "metadata": {
        "id": "S-FaARj7lUY7"
      },
      "execution_count": null,
      "outputs": []
    },
    {
      "cell_type": "code",
      "source": [],
      "metadata": {
        "id": "3qTlmtrvlUTD"
      },
      "execution_count": null,
      "outputs": []
    }
  ]
}